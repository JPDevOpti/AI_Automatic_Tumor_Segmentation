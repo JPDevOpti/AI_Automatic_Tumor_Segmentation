{
 "cells": [
  {
   "cell_type": "markdown",
   "metadata": {},
   "source": [
    "<div style=\"text-align: justify;font-size: 36px;color: #b1c5fc;\">Pre processing flow</div>"
   ]
  },
  {
   "cell_type": "markdown",
   "metadata": {},
   "source": [
    "<div style=\"text-align: justify;font-size: 28px;color: #b1c5fc;\">Imports and config</div>"
   ]
  },
  {
   "cell_type": "code",
   "execution_count": 1,
   "metadata": {},
   "outputs": [],
   "source": [
    "import numpy as np\n",
    "import matplotlib.pyplot as plt\n",
    "import os\n",
    "import nibabel as nib\n",
    "from nilearn import image\n",
    "from nilearn.image import resample_to_img\n",
    "import fsl.wrappers.bet as bet"
   ]
  },
  {
   "cell_type": "code",
   "execution_count": 2,
   "metadata": {},
   "outputs": [],
   "source": [
    "#Setup FSL environment (for brain extraction)\n",
    "\n",
    "# Ensure FSLDIR is set\n",
    "os.environ['FSLDIR'] = '/Users/imeag/fsl'\n",
    "os.environ['PATH'] = os.environ['FSLDIR'] + '/bin:' + os.environ['PATH']\n",
    "\n",
    "# Set FSLOUTPUTTYPE environment variable\n",
    "#os.environ['FSLOUTPUTTYPE'] = 'NIFTI_GZ'\n",
    "os.environ['FSLOUTPUTTYPE'] = 'NIFTI'\n"
   ]
  },
  {
   "cell_type": "markdown",
   "metadata": {},
   "source": [
    "<div style=\"text-align: justify;font-size: 28px;color: #b1c5fc;\">Define functions</div>"
   ]
  },
  {
   "cell_type": "markdown",
   "metadata": {},
   "source": [
    "<div style=\"text-align: justify;font-size: 20px;color: #b1c5fc;\">Utils</div>"
   ]
  },
  {
   "cell_type": "code",
   "execution_count": 3,
   "metadata": {},
   "outputs": [],
   "source": [
    "def cargar_nii(archivo):\n",
    "    \"\"\"\n",
    "    Carga un archivo .nii (NIfTI) y devuelve la imagen como un array de NumPy.\n",
    "    \n",
    "    :param archivo: Ruta al archivo .nii\n",
    "    :return: Imagen cargada como un array de NumPy\n",
    "    \"\"\"\n",
    "    imagen_nifti = nib.load(archivo)\n",
    "    imagen_array = imagen_nifti.get_fdata()\n",
    "    return imagen_array\n"
   ]
  },
  {
   "cell_type": "markdown",
   "metadata": {},
   "source": [
    "<div style=\"text-align: justify;font-size: 20px;color: #b1c5fc;\">Co-registration</div>"
   ]
  },
  {
   "cell_type": "code",
   "execution_count": 4,
   "metadata": {},
   "outputs": [],
   "source": [
    "def reorient_image(reference_image_path, image_to_reorient_path, output_path):\n",
    "    \"\"\"\n",
    "    Reorienta una imagen a la orientación de una imagen de referencia y guarda el resultado.\n",
    "\n",
    "    Parameters:\n",
    "    - reference_image_path (str): Ruta del archivo .nii de referencia.\n",
    "    - image_to_reorient_path (str): Ruta del archivo .nii que se quiere reorientar.\n",
    "    - output_path (str): Ruta donde se guardará la imagen reorientada.\n",
    "    \"\"\"\n",
    "    # Verificar si los archivos existen\n",
    "    if not (os.path.exists(reference_image_path) and os.path.exists(image_to_reorient_path)):\n",
    "        raise FileNotFoundError(\"Uno o ambos archivos no se encontraron.\")\n",
    "\n",
    "    try:\n",
    "        # Cargar las imágenes\n",
    "        imagen1 = nib.load(image_to_reorient_path)  # Imagen a reorientar\n",
    "        imagen2 = nib.load(reference_image_path)  # Imagen de referencia\n",
    "        \n",
    "        # Comprobar los tipos de datos\n",
    "        print(\"Tipo de imagen a reorientar:\", type(imagen1))  # Debería mostrar <class 'nibabel.nifti1.Nifti1Image'>\n",
    "        print(\"Tipo de imagen de referencia:\", type(imagen2))  # Debería mostrar <class 'nibabel.nifti1.Nifti1Image'>\n",
    "        \n",
    "        # Mostrar información básica de las imágenes\n",
    "        print(\"Imagen a reorientar:\")\n",
    "        print(\"Tipo de datos:\", imagen1.get_data_dtype())\n",
    "        print(\"Forma:\", imagen1.shape)\n",
    "        \n",
    "        print(\"\\nImagen de referencia:\")\n",
    "        print(\"Tipo de datos:\", imagen2.get_data_dtype())\n",
    "        print(\"Forma:\", imagen2.shape)\n",
    "\n",
    "        # Reorientar la imagen\n",
    "        reoriented_img = resample_to_img(imagen1, imagen2, interpolation='nearest')\n",
    "\n",
    "        # Guardar la imagen reorientada\n",
    "        reoriented_img.to_filename(output_path)\n",
    "\n",
    "        print(f\"Reorientación completa y imagen guardada como '{output_path}'.\")\n",
    "\n",
    "    except Exception as e:\n",
    "        print(f\"Error al cargar las imágenes o realizar la reorientación: {e}\")"
   ]
  },
  {
   "cell_type": "markdown",
   "metadata": {},
   "source": [
    "<div style=\"text-align: justify;font-size: 20px;color: #b1c5fc;\">Normalization</div>"
   ]
  },
  {
   "cell_type": "code",
   "execution_count": 5,
   "metadata": {},
   "outputs": [],
   "source": [
    "def normalize_image(image_path, output_path):\n",
    "    \"\"\"\n",
    "    Normaliza la escala de grises de una imagen y guarda el resultado.\n",
    "\n",
    "    Parameters:\n",
    "    - image_path (str): Ruta del archivo .nii de la imagen.\n",
    "    - output_path (str): Ruta donde se guardará la imagen normalizada.\n",
    "    \"\"\"\n",
    "    # Cargar la imagen\n",
    "    img = nib.load(image_path)\n",
    "    data = img.get_fdata()\n",
    "\n",
    "    # Normalizar la escala de grises\n",
    "    min_val = np.min(data)\n",
    "    max_val = np.max(data)\n",
    "    normalized_data = (data - min_val) / (max_val - min_val)\n",
    "\n",
    "    # Crear una nueva imagen con los datos normalizados\n",
    "    normalized_img = nib.Nifti1Image(normalized_data, img.affine, img.header)\n",
    "    \n",
    "    # Guardar la imagen normalizada\n",
    "    normalized_img.to_filename(output_path)\n",
    "\n",
    "    print(f\"Imagen normalizada guardada como '{output_path}'.\")"
   ]
  },
  {
   "cell_type": "markdown",
   "metadata": {},
   "source": [
    "<div style=\"text-align: justify;font-size: 20px;color: #b1c5fc;\">Brain Extraction</div>"
   ]
  },
  {
   "cell_type": "code",
   "execution_count": null,
   "metadata": {},
   "outputs": [],
   "source": [
    "def extract_brain(input_path, output_path):\n",
    "    \"\"\"\n",
    "    Extrae el cerebro de una imagen y guarda el resultado.\n",
    "\n",
    "    Parameters:\n",
    "    - input_path (str): Ruta del archivo .nii de la imagen.\n",
    "    - output_path (str): Ruta donde se guardará la imagen con el cerebro extraído.\n",
    "    \"\"\"\n",
    "    # Extraer el cerebro\n",
    "    result = bet(input_path, output_path, f=0.32)\n",
    "\n",
    "    print(f\"Extracción de cerebro completa y resultado guardado como '{output_path}'.\")"
   ]
  }
 ],
 "metadata": {
  "kernelspec": {
   "display_name": "base",
   "language": "python",
   "name": "python3"
  },
  "language_info": {
   "codemirror_mode": {
    "name": "ipython",
    "version": 3
   },
   "file_extension": ".py",
   "mimetype": "text/x-python",
   "name": "python",
   "nbconvert_exporter": "python",
   "pygments_lexer": "ipython3",
   "version": "3.12.4"
  }
 },
 "nbformat": 4,
 "nbformat_minor": 2
}
